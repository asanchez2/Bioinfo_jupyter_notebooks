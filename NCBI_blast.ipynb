{
 "cells": [
  {
   "cell_type": "markdown",
   "metadata": {},
   "source": [
    "# Curso de Bioinformática, sesión práctica 1\n",
    "\n",
    "Enero 2020\n",
    "\n",
    "# Introducción a Biopython y NCBI\n",
    "\n",
    "Biopyton es ...\n"
   ]
  },
  {
   "cell_type": "code",
   "execution_count": null,
   "metadata": {},
   "outputs": [],
   "source": [
    "from Bio import Entrez, SeqIO"
   ]
  },
  {
   "cell_type": "markdown",
   "metadata": {},
   "source": [
    "Aquí ponemos una descripción sobre lo que hace el código"
   ]
  },
  {
   "cell_type": "code",
   "execution_count": null,
   "metadata": {},
   "outputs": [],
   "source": [
    "############################################\n",
    "## Sección 1 - Descarga de un solo record  #\n",
    "############################################"
   ]
  },
  {
   "cell_type": "code",
   "execution_count": null,
   "metadata": {},
   "outputs": [],
   "source": [
    "Entrez.email = \"asanchez2@utpl.edu.ec\" # put your email here\n",
    "\n",
    "# Descargar el record de genbank con id KT220438\n",
    "# TEste es el gen HA del virus de la infuenza A, cepa A/NewJersey/NHRC_93219/2015(H3N2)\n",
    "handle = Entrez.efetch(db=\"nucleotide\", id=\"KT220438\", rettype=\"gb\", retmode=\"text\")\n",
    "record = SeqIO.read(handle, \"genbank\")\n",
    "handle.close()\n",
    "\n",
    "# El record que corresponde al id KT220438 está ahora almacenado en la variable 'record' y\n",
    "# podemos imprimirla para ver que contiene\n",
    "print(record)"
   ]
  },
  {
   "cell_type": "code",
   "execution_count": null,
   "metadata": {},
   "outputs": [],
   "source": [
    "#############################################\n",
    "## Sección 2 - Descarga de más de un record #\n",
    "#############################################"
   ]
  }
 ],
 "metadata": {
  "kernelspec": {
   "display_name": "Python 3",
   "language": "python",
   "name": "python3"
  },
  "language_info": {
   "codemirror_mode": {
    "name": "ipython",
    "version": 3
   },
   "file_extension": ".py",
   "mimetype": "text/x-python",
   "name": "python",
   "nbconvert_exporter": "python",
   "pygments_lexer": "ipython3",
   "version": "3.6.9"
  }
 },
 "nbformat": 4,
 "nbformat_minor": 2
}

{
 "cells": [
  {
   "cell_type": "markdown",
   "metadata": {},
   "source": [
    "# Introducción a Biopython y NCBI\n",
    "\n",
    "Enero 2020"
   ]
  },
  {
   "cell_type": "code",
   "execution_count": 1,
   "metadata": {},
   "outputs": [],
   "source": [
    "from Bio import Entrez, SeqIO"
   ]
  },
  {
   "cell_type": "markdown",
   "metadata": {},
   "source": [
    "Aquí ponemos una descripción sobre lo que hace el código"
   ]
  },
  {
   "cell_type": "code",
   "execution_count": 2,
   "metadata": {},
   "outputs": [
    {
     "name": "stdout",
     "output_type": "stream",
     "text": [
      "ID: KT220438.1\n",
      "Name: KT220438\n",
      "Description: Influenza A virus (A/NewJersey/NHRC_93219/2015(H3N2)) segment 4 hemagglutinin (HA) gene, complete cds\n",
      "Number of features: 5\n",
      "/molecule_type=cRNA\n",
      "/topology=linear\n",
      "/data_file_division=VRL\n",
      "/date=20-JUL-2015\n",
      "/accessions=['KT220438']\n",
      "/sequence_version=1\n",
      "/keywords=['']\n",
      "/source=Influenza A virus (A/New Jersey/NHRC_93219/2015(H3N2))\n",
      "/organism=Influenza A virus (A/New Jersey/NHRC_93219/2015(H3N2))\n",
      "/taxonomy=['Viruses', 'Riboviria', 'Negarnaviricota', 'Polyploviricotina', 'Insthoviricetes', 'Articulavirales', 'Orthomyxoviridae', 'Alphainfluenzavirus']\n",
      "/references=[Reference(title='GEISS Influenza Surveillance Response Program', ...), Reference(title='Direct Submission', ...)]\n",
      "/structured_comment=OrderedDict([('Assembly-Data', OrderedDict([('Sequencing Technology', 'Sanger dideoxy sequencing')]))])\n",
      "Seq('ATGAAGACTATCATTGCTTTGAGCTACATTCTATGTCTGGTTTTCGCTCAAAAA...TGA', IUPACAmbiguousDNA())\n"
     ]
    }
   ],
   "source": [
    "Entrez.email = \"asanchez2@utpl.edu.ec\" # put your email here\n",
    "\n",
    "# Download sequence record for genbank id KT220438\n",
    "# This is HA gene of Influenza A virus, strain A/NewJersey/NHRC_93219/2015(H3N2)\n",
    "handle = Entrez.efetch(db=\"nucleotide\", id=\"KT220438\", rettype=\"gb\", retmode=\"text\")\n",
    "record = SeqIO.read(handle, \"genbank\")\n",
    "handle.close()\n",
    "\n",
    "# The sequence record is now stored in the variable `record` and\n",
    "# we can print it to see what it contains \n",
    "print(record)"
   ]
  },
  {
   "cell_type": "code",
   "execution_count": null,
   "metadata": {},
   "outputs": [],
   "source": []
  }
 ],
 "metadata": {
  "kernelspec": {
   "display_name": "Python 3",
   "language": "python",
   "name": "python3"
  },
  "language_info": {
   "codemirror_mode": {
    "name": "ipython",
    "version": 3
   },
   "file_extension": ".py",
   "mimetype": "text/x-python",
   "name": "python",
   "nbconvert_exporter": "python",
   "pygments_lexer": "ipython3",
   "version": "3.6.9"
  }
 },
 "nbformat": 4,
 "nbformat_minor": 2
}
